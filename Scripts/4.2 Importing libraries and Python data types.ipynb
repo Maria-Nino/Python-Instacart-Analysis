{
 "cells": [
  {
   "cell_type": "markdown",
   "id": "664eb111",
   "metadata": {},
   "source": [
    "# 01. Importing Libraries"
   ]
  },
  {
   "cell_type": "code",
   "execution_count": 1,
   "id": "05187309",
   "metadata": {},
   "outputs": [],
   "source": [
    "# Import Libraries\n",
    "import pandas as pd\n",
    "import numpy as np\n",
    "import os"
   ]
  },
  {
   "cell_type": "markdown",
   "id": "e568a513",
   "metadata": {},
   "source": [
    "# 02. Data Types"
   ]
  },
  {
   "cell_type": "code",
   "execution_count": 2,
   "id": "dff5d865",
   "metadata": {},
   "outputs": [],
   "source": [
    "x = 2"
   ]
  },
  {
   "cell_type": "code",
   "execution_count": 3,
   "id": "4e201631",
   "metadata": {},
   "outputs": [
    {
     "data": {
      "text/plain": [
       "2"
      ]
     },
     "execution_count": 3,
     "metadata": {},
     "output_type": "execute_result"
    }
   ],
   "source": [
    "x"
   ]
  },
  {
   "cell_type": "code",
   "execution_count": 4,
   "id": "c857cbfe",
   "metadata": {},
   "outputs": [
    {
     "data": {
      "text/plain": [
       "int"
      ]
     },
     "execution_count": 4,
     "metadata": {},
     "output_type": "execute_result"
    }
   ],
   "source": [
    " type(x)"
   ]
  },
  {
   "cell_type": "code",
   "execution_count": 5,
   "id": "313c911a",
   "metadata": {},
   "outputs": [],
   "source": [
    "y = 5.678"
   ]
  },
  {
   "cell_type": "code",
   "execution_count": 6,
   "id": "de6e0e9b",
   "metadata": {},
   "outputs": [
    {
     "data": {
      "text/plain": [
       "float"
      ]
     },
     "execution_count": 6,
     "metadata": {},
     "output_type": "execute_result"
    }
   ],
   "source": [
    "type(y)"
   ]
  },
  {
   "cell_type": "code",
   "execution_count": 7,
   "id": "cfefde52",
   "metadata": {},
   "outputs": [],
   "source": [
    "z = 'Brazil'"
   ]
  },
  {
   "cell_type": "code",
   "execution_count": 8,
   "id": "6e784f55",
   "metadata": {},
   "outputs": [
    {
     "data": {
      "text/plain": [
       "str"
      ]
     },
     "execution_count": 8,
     "metadata": {},
     "output_type": "execute_result"
    }
   ],
   "source": [
    "type(z)"
   ]
  },
  {
   "cell_type": "code",
   "execution_count": 9,
   "id": "f146875b",
   "metadata": {},
   "outputs": [
    {
     "data": {
      "text/plain": [
       "bool"
      ]
     },
     "execution_count": 9,
     "metadata": {},
     "output_type": "execute_result"
    }
   ],
   "source": [
    "type(True)"
   ]
  },
  {
   "cell_type": "code",
   "execution_count": 11,
   "id": "887201a3",
   "metadata": {},
   "outputs": [
    {
     "data": {
      "text/plain": [
       "bool"
      ]
     },
     "execution_count": 11,
     "metadata": {},
     "output_type": "execute_result"
    }
   ],
   "source": [
    "type(False)"
   ]
  },
  {
   "cell_type": "markdown",
   "id": "8ea19d3d",
   "metadata": {},
   "source": [
    "# Task"
   ]
  },
  {
   "cell_type": "code",
   "execution_count": 1,
   "id": "8ad90fc8",
   "metadata": {},
   "outputs": [],
   "source": [
    "t = 100"
   ]
  },
  {
   "cell_type": "code",
   "execution_count": 2,
   "id": "603c59d2",
   "metadata": {},
   "outputs": [],
   "source": [
    "u = 75"
   ]
  },
  {
   "cell_type": "code",
   "execution_count": 3,
   "id": "b8a53986",
   "metadata": {},
   "outputs": [],
   "source": [
    "v = 25"
   ]
  },
  {
   "cell_type": "code",
   "execution_count": 4,
   "id": "cad42af5",
   "metadata": {},
   "outputs": [],
   "source": [
    "p = 0"
   ]
  },
  {
   "cell_type": "code",
   "execution_count": 5,
   "id": "792f6e23",
   "metadata": {},
   "outputs": [
    {
     "data": {
      "text/plain": [
       "100"
      ]
     },
     "execution_count": 5,
     "metadata": {},
     "output_type": "execute_result"
    }
   ],
   "source": [
    "t - p"
   ]
  },
  {
   "cell_type": "code",
   "execution_count": 6,
   "id": "38308d11",
   "metadata": {},
   "outputs": [
    {
     "data": {
      "text/plain": [
       "100"
      ]
     },
     "execution_count": 6,
     "metadata": {},
     "output_type": "execute_result"
    }
   ],
   "source": [
    "t + p"
   ]
  },
  {
   "cell_type": "code",
   "execution_count": 7,
   "id": "54e0327c",
   "metadata": {},
   "outputs": [
    {
     "data": {
      "text/plain": [
       "100"
      ]
     },
     "execution_count": 7,
     "metadata": {},
     "output_type": "execute_result"
    }
   ],
   "source": [
    "u + v"
   ]
  },
  {
   "cell_type": "code",
   "execution_count": 8,
   "id": "0ef610c2",
   "metadata": {},
   "outputs": [],
   "source": [
    "f = 5.5"
   ]
  },
  {
   "cell_type": "code",
   "execution_count": 9,
   "id": "1b111de6",
   "metadata": {},
   "outputs": [],
   "source": [
    "g = 1.5"
   ]
  },
  {
   "cell_type": "code",
   "execution_count": 10,
   "id": "baf83a56",
   "metadata": {},
   "outputs": [
    {
     "data": {
      "text/plain": [
       "3.6666666666666665"
      ]
     },
     "execution_count": 10,
     "metadata": {},
     "output_type": "execute_result"
    }
   ],
   "source": [
    "f / g"
   ]
  },
  {
   "cell_type": "code",
   "execution_count": 26,
   "id": "3b9312ac",
   "metadata": {},
   "outputs": [],
   "source": [
    "h = 'hello, '"
   ]
  },
  {
   "cell_type": "code",
   "execution_count": 27,
   "id": "4813ff81",
   "metadata": {},
   "outputs": [],
   "source": [
    "j = 'world'"
   ]
  },
  {
   "cell_type": "code",
   "execution_count": 28,
   "id": "67302990",
   "metadata": {},
   "outputs": [
    {
     "data": {
      "text/plain": [
       "'hello, world'"
      ]
     },
     "execution_count": 28,
     "metadata": {},
     "output_type": "execute_result"
    }
   ],
   "source": [
    "h + j"
   ]
  },
  {
   "cell_type": "code",
   "execution_count": 29,
   "id": "9d7e6cbb",
   "metadata": {},
   "outputs": [],
   "source": [
    "k = 'I like to '"
   ]
  },
  {
   "cell_type": "code",
   "execution_count": 32,
   "id": "bc73980b",
   "metadata": {},
   "outputs": [],
   "source": [
    "l = 'eat apples'"
   ]
  },
  {
   "cell_type": "code",
   "execution_count": 33,
   "id": "9602581f",
   "metadata": {},
   "outputs": [],
   "source": [
    "m = ' and run everyday'"
   ]
  },
  {
   "cell_type": "code",
   "execution_count": 34,
   "id": "a94de96d",
   "metadata": {},
   "outputs": [
    {
     "data": {
      "text/plain": [
       "'I like to eat apples and run everyday'"
      ]
     },
     "execution_count": 34,
     "metadata": {},
     "output_type": "execute_result"
    }
   ],
   "source": [
    "k + l + m"
   ]
  },
  {
   "cell_type": "code",
   "execution_count": 35,
   "id": "737aa6a3",
   "metadata": {},
   "outputs": [],
   "source": [
    "o = 'the bear is '"
   ]
  },
  {
   "cell_type": "code",
   "execution_count": 36,
   "id": "8d843d44",
   "metadata": {},
   "outputs": [],
   "source": [
    "o2 = 'a great show'"
   ]
  },
  {
   "cell_type": "code",
   "execution_count": 37,
   "id": "38d8ab15",
   "metadata": {},
   "outputs": [
    {
     "data": {
      "text/plain": [
       "'the bear is a great show'"
      ]
     },
     "execution_count": 37,
     "metadata": {},
     "output_type": "execute_result"
    }
   ],
   "source": [
    "o + o2"
   ]
  }
 ],
 "metadata": {
  "kernelspec": {
   "display_name": "Python 3 (ipykernel)",
   "language": "python",
   "name": "python3"
  },
  "language_info": {
   "codemirror_mode": {
    "name": "ipython",
    "version": 3
   },
   "file_extension": ".py",
   "mimetype": "text/x-python",
   "name": "python",
   "nbconvert_exporter": "python",
   "pygments_lexer": "ipython3",
   "version": "3.11.5"
  }
 },
 "nbformat": 4,
 "nbformat_minor": 5
}
