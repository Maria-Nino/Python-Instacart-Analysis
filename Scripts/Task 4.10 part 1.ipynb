{
 "cells": [
  {
   "cell_type": "markdown",
   "id": "14370ed6",
   "metadata": {},
   "source": [
    "# Task 4.10 part 1"
   ]
  },
  {
   "cell_type": "markdown",
   "id": "ed8b1fd2",
   "metadata": {},
   "source": [
    "Table of Contents "
   ]
  },
  {
   "cell_type": "markdown",
   "id": "f255a6ad",
   "metadata": {},
   "source": [
    "1.Import data set."
   ]
  },
  {
   "cell_type": "markdown",
   "id": "58c7f70f",
   "metadata": {},
   "source": [
    "2.Consider security implications. "
   ]
  },
  {
   "cell_type": "markdown",
   "id": "3a96af9d",
   "metadata": {},
   "source": [
    "3.Regional segmentation of the data."
   ]
  },
  {
   "cell_type": "markdown",
   "id": "ee2418e3",
   "metadata": {},
   "source": [
    "4.Exclusion flag for low-activity customers."
   ]
  },
  {
   "cell_type": "markdown",
   "id": "23112fa2",
   "metadata": {},
   "source": [
    "5.Profiling variable based on age, income, certain goods in the “department_id” column, and number of dependents."
   ]
  },
  {
   "cell_type": "markdown",
   "id": "2a095616",
   "metadata": {},
   "source": [
    "6.Visualizations."
   ]
  },
  {
   "cell_type": "markdown",
   "id": "602deca1",
   "metadata": {},
   "source": [
    "7.Export data to continue in the next script"
   ]
  },
  {
   "cell_type": "markdown",
   "id": "18eb9973",
   "metadata": {},
   "source": [
    "# Step 1"
   ]
  },
  {
   "cell_type": "code",
   "execution_count": 1,
   "id": "c30c16ca",
   "metadata": {},
   "outputs": [],
   "source": [
    "#Import libraries\n",
    "import pandas as pd\n",
    "import numpy as np\n",
    "import os\n",
    "import matplotlib.pyplot as plt\n",
    "import seaborn as sns\n",
    "import scipy\n",
    "import matplotlib as mpl\n",
    "from matplotlib.ticker import ScalarFormatter"
   ]
  },
  {
   "cell_type": "code",
   "execution_count": 2,
   "id": "68b3f876",
   "metadata": {},
   "outputs": [],
   "source": [
    "#Import df\n",
    "df_ords_customers = pd.read_pickle(r'/Users/marianino/Desktop/Instacart Basket Analysis/Data/Prepared Data/orders_products_customer_merged.pkl')"
   ]
  },
  {
   "cell_type": "code",
   "execution_count": 3,
   "id": "44cb6bb2",
   "metadata": {},
   "outputs": [
    {
     "data": {
      "text/plain": [
       "(32404859, 33)"
      ]
     },
     "execution_count": 3,
     "metadata": {},
     "output_type": "execute_result"
    }
   ],
   "source": [
    "#Checking df\n",
    "df_ords_customers.shape"
   ]
  },
  {
   "cell_type": "markdown",
   "id": "70e63f7b",
   "metadata": {},
   "source": [
    "# Step 2"
   ]
  },
  {
   "cell_type": "markdown",
   "id": "c50131b8",
   "metadata": {},
   "source": [
    "Consider any security implications that might exist for this new data. You’ll need to address any PII data in the data before continuing your analysis."
   ]
  },
  {
   "cell_type": "code",
   "execution_count": 4,
   "id": "5887ee1b",
   "metadata": {},
   "outputs": [],
   "source": [
    "#Delete the first name and last name of the customers for security reasons\n",
    "df_2 = df_ords_customers.drop(columns = ['first_name', 'last_name'])"
   ]
  },
  {
   "cell_type": "code",
   "execution_count": 5,
   "id": "5406dacb",
   "metadata": {},
   "outputs": [
    {
     "data": {
      "text/html": [
       "<div>\n",
       "<style scoped>\n",
       "    .dataframe tbody tr th:only-of-type {\n",
       "        vertical-align: middle;\n",
       "    }\n",
       "\n",
       "    .dataframe tbody tr th {\n",
       "        vertical-align: top;\n",
       "    }\n",
       "\n",
       "    .dataframe thead th {\n",
       "        text-align: right;\n",
       "    }\n",
       "</style>\n",
       "<table border=\"1\" class=\"dataframe\">\n",
       "  <thead>\n",
       "    <tr style=\"text-align: right;\">\n",
       "      <th></th>\n",
       "      <th>product_id</th>\n",
       "      <th>product_name</th>\n",
       "      <th>aisle_id</th>\n",
       "      <th>department_id</th>\n",
       "      <th>prices</th>\n",
       "      <th>order_id</th>\n",
       "      <th>user_id</th>\n",
       "      <th>order_number</th>\n",
       "      <th>orders_day_of_week</th>\n",
       "      <th>order_hour_of_day</th>\n",
       "      <th>...</th>\n",
       "      <th>median_orders</th>\n",
       "      <th>order_frequency_flag</th>\n",
       "      <th>gender</th>\n",
       "      <th>state</th>\n",
       "      <th>age</th>\n",
       "      <th>date_joined</th>\n",
       "      <th>n_dependants</th>\n",
       "      <th>fam_status</th>\n",
       "      <th>income</th>\n",
       "      <th>_merge</th>\n",
       "    </tr>\n",
       "  </thead>\n",
       "  <tbody>\n",
       "    <tr>\n",
       "      <th>0</th>\n",
       "      <td>1</td>\n",
       "      <td>Chocolate Sandwich Cookies</td>\n",
       "      <td>61</td>\n",
       "      <td>19</td>\n",
       "      <td>5.8</td>\n",
       "      <td>3139998</td>\n",
       "      <td>138</td>\n",
       "      <td>28</td>\n",
       "      <td>6</td>\n",
       "      <td>11</td>\n",
       "      <td>...</td>\n",
       "      <td>10.4</td>\n",
       "      <td>Regular customer</td>\n",
       "      <td>Male</td>\n",
       "      <td>Minnesota</td>\n",
       "      <td>81</td>\n",
       "      <td>2019-08-01</td>\n",
       "      <td>1</td>\n",
       "      <td>married</td>\n",
       "      <td>49620</td>\n",
       "      <td>both</td>\n",
       "    </tr>\n",
       "    <tr>\n",
       "      <th>1</th>\n",
       "      <td>1</td>\n",
       "      <td>Chocolate Sandwich Cookies</td>\n",
       "      <td>61</td>\n",
       "      <td>19</td>\n",
       "      <td>5.8</td>\n",
       "      <td>1977647</td>\n",
       "      <td>138</td>\n",
       "      <td>30</td>\n",
       "      <td>6</td>\n",
       "      <td>17</td>\n",
       "      <td>...</td>\n",
       "      <td>10.4</td>\n",
       "      <td>Regular customer</td>\n",
       "      <td>Male</td>\n",
       "      <td>Minnesota</td>\n",
       "      <td>81</td>\n",
       "      <td>2019-08-01</td>\n",
       "      <td>1</td>\n",
       "      <td>married</td>\n",
       "      <td>49620</td>\n",
       "      <td>both</td>\n",
       "    </tr>\n",
       "    <tr>\n",
       "      <th>2</th>\n",
       "      <td>907</td>\n",
       "      <td>Premium Sliced Bacon</td>\n",
       "      <td>106</td>\n",
       "      <td>12</td>\n",
       "      <td>20.0</td>\n",
       "      <td>3160996</td>\n",
       "      <td>138</td>\n",
       "      <td>1</td>\n",
       "      <td>5</td>\n",
       "      <td>13</td>\n",
       "      <td>...</td>\n",
       "      <td>10.4</td>\n",
       "      <td>Regular customer</td>\n",
       "      <td>Male</td>\n",
       "      <td>Minnesota</td>\n",
       "      <td>81</td>\n",
       "      <td>2019-08-01</td>\n",
       "      <td>1</td>\n",
       "      <td>married</td>\n",
       "      <td>49620</td>\n",
       "      <td>both</td>\n",
       "    </tr>\n",
       "    <tr>\n",
       "      <th>3</th>\n",
       "      <td>907</td>\n",
       "      <td>Premium Sliced Bacon</td>\n",
       "      <td>106</td>\n",
       "      <td>12</td>\n",
       "      <td>20.0</td>\n",
       "      <td>2254091</td>\n",
       "      <td>138</td>\n",
       "      <td>10</td>\n",
       "      <td>5</td>\n",
       "      <td>14</td>\n",
       "      <td>...</td>\n",
       "      <td>10.4</td>\n",
       "      <td>Regular customer</td>\n",
       "      <td>Male</td>\n",
       "      <td>Minnesota</td>\n",
       "      <td>81</td>\n",
       "      <td>2019-08-01</td>\n",
       "      <td>1</td>\n",
       "      <td>married</td>\n",
       "      <td>49620</td>\n",
       "      <td>both</td>\n",
       "    </tr>\n",
       "    <tr>\n",
       "      <th>4</th>\n",
       "      <td>1000</td>\n",
       "      <td>Apricots</td>\n",
       "      <td>18</td>\n",
       "      <td>10</td>\n",
       "      <td>12.9</td>\n",
       "      <td>505689</td>\n",
       "      <td>138</td>\n",
       "      <td>9</td>\n",
       "      <td>6</td>\n",
       "      <td>12</td>\n",
       "      <td>...</td>\n",
       "      <td>10.4</td>\n",
       "      <td>Regular customer</td>\n",
       "      <td>Male</td>\n",
       "      <td>Minnesota</td>\n",
       "      <td>81</td>\n",
       "      <td>2019-08-01</td>\n",
       "      <td>1</td>\n",
       "      <td>married</td>\n",
       "      <td>49620</td>\n",
       "      <td>both</td>\n",
       "    </tr>\n",
       "  </tbody>\n",
       "</table>\n",
       "<p>5 rows × 31 columns</p>\n",
       "</div>"
      ],
      "text/plain": [
       "   product_id                product_name  aisle_id  department_id  prices  \\\n",
       "0           1  Chocolate Sandwich Cookies        61             19     5.8   \n",
       "1           1  Chocolate Sandwich Cookies        61             19     5.8   \n",
       "2         907        Premium Sliced Bacon       106             12    20.0   \n",
       "3         907        Premium Sliced Bacon       106             12    20.0   \n",
       "4        1000                    Apricots        18             10    12.9   \n",
       "\n",
       "   order_id user_id  order_number  orders_day_of_week  order_hour_of_day  ...  \\\n",
       "0   3139998     138            28                   6                 11  ...   \n",
       "1   1977647     138            30                   6                 17  ...   \n",
       "2   3160996     138             1                   5                 13  ...   \n",
       "3   2254091     138            10                   5                 14  ...   \n",
       "4    505689     138             9                   6                 12  ...   \n",
       "\n",
       "   median_orders  order_frequency_flag  gender      state age date_joined  \\\n",
       "0           10.4      Regular customer    Male  Minnesota  81  2019-08-01   \n",
       "1           10.4      Regular customer    Male  Minnesota  81  2019-08-01   \n",
       "2           10.4      Regular customer    Male  Minnesota  81  2019-08-01   \n",
       "3           10.4      Regular customer    Male  Minnesota  81  2019-08-01   \n",
       "4           10.4      Regular customer    Male  Minnesota  81  2019-08-01   \n",
       "\n",
       "  n_dependants  fam_status income  _merge  \n",
       "0            1     married  49620    both  \n",
       "1            1     married  49620    both  \n",
       "2            1     married  49620    both  \n",
       "3            1     married  49620    both  \n",
       "4            1     married  49620    both  \n",
       "\n",
       "[5 rows x 31 columns]"
      ]
     },
     "execution_count": 5,
     "metadata": {},
     "output_type": "execute_result"
    }
   ],
   "source": [
    "#Checking new df\n",
    "df_2.head()"
   ]
  },
  {
   "cell_type": "code",
   "execution_count": 6,
   "id": "ad53adc5",
   "metadata": {},
   "outputs": [
    {
     "data": {
      "text/plain": [
       "(32404859, 31)"
      ]
     },
     "execution_count": 6,
     "metadata": {},
     "output_type": "execute_result"
    }
   ],
   "source": [
    "df_2.shape"
   ]
  },
  {
   "cell_type": "markdown",
   "id": "8d568dff",
   "metadata": {},
   "source": [
    "# Step 3"
   ]
  },
  {
   "cell_type": "markdown",
   "id": "1c18146d",
   "metadata": {},
   "source": [
    "The Instacart officers are interested in comparing customer behavior in different geographic areas. Create a regional segmentation of the data. You’ll need to create a “Region” column based on the “State” column from your customers data set."
   ]
  },
  {
   "cell_type": "code",
   "execution_count": 7,
   "id": "fd639735",
   "metadata": {},
   "outputs": [
    {
     "name": "stderr",
     "output_type": "stream",
     "text": [
      "/var/folders/zq/gd226qtd2tq509tvr0_wm2kc0000gn/T/ipykernel_9269/998502209.py:2: FutureWarning: Setting an item of incompatible dtype is deprecated and will raise in a future error of pandas. Value 'Midwest' has dtype incompatible with float64, please explicitly cast to a compatible dtype first.\n",
      "  df_2.loc[(df_2['state'] == 'Minnesota') |\n"
     ]
    }
   ],
   "source": [
    "#Assign states to the 'Midwest' region\n",
    "df_2.loc[(df_2['state'] == 'Minnesota') |\n",
    "(df_2['state'] == 'Iowa') |\n",
    "(df_2['state'] == 'Michigan') |\n",
    "(df_2['state'] == 'Wisconsin') |\n",
    "(df_2['state'] == 'Illinois') |\n",
    "(df_2['state'] == 'Indiana')|\n",
    "(df_2['state'] == 'North Dakota')|\n",
    "(df_2['state'] == 'South Dakota')|\n",
    "(df_2['state'] == 'Nebraska')|\n",
    "(df_2['state'] == 'Kansas')|\n",
    "(df_2['state'] == 'Missouri')|\n",
    "(df_2['state'] == 'Ohio'),\n",
    "'region'] = 'Midwest'"
   ]
  },
  {
   "cell_type": "code",
   "execution_count": 8,
   "id": "77208b2f",
   "metadata": {},
   "outputs": [],
   "source": [
    "#Assign states to the 'Northeast' region\n",
    "df_2.loc[(df_2['state'] == 'Maine') |\n",
    "(df_2['state'] == 'New Hampshire') |\n",
    "(df_2['state'] == 'Vermont') |\n",
    "(df_2['state'] == 'Massachusetts') |\n",
    "(df_2['state'] == 'Rhode Island') |\n",
    "(df_2['state'] == 'Connecticut')|\n",
    "(df_2['state'] == 'New York')|\n",
    "(df_2['state'] == 'Pennsylvania')|\n",
    "(df_2['state'] == 'New Jersey'),\n",
    "'region'] = 'Northeast'"
   ]
  },
  {
   "cell_type": "code",
   "execution_count": 9,
   "id": "3e311527",
   "metadata": {},
   "outputs": [],
   "source": [
    "#Assign states to the 'South' region\n",
    "df_2.loc[(df_2['state'] == 'Delaware') |\n",
    "(df_2['state'] == 'Maryland') |\n",
    "(df_2['state'] == 'District of Columbia') |\n",
    "(df_2['state'] == 'Virginia') |\n",
    "(df_2['state'] == 'West Virginia') |\n",
    "(df_2['state'] == 'North Carolina')|\n",
    "(df_2['state'] == 'South Carolina')|\n",
    "(df_2['state'] == 'Georgia')|\n",
    "(df_2['state'] == 'Kentucky')|\n",
    "(df_2['state'] == 'Tennessee')|\n",
    "(df_2['state'] == 'Mississippi')|\n",
    "(df_2['state'] == 'Alabama')|\n",
    "(df_2['state'] == 'Oklahoma')|\n",
    "(df_2['state'] == 'Texas')|\n",
    "(df_2['state'] == 'Arkansas')|\n",
    "(df_2['state'] == 'Louisiana')|\n",
    "(df_2['state'] == 'Florida'),\n",
    "'region'] = 'South'"
   ]
  },
  {
   "cell_type": "code",
   "execution_count": 10,
   "id": "14d6ae6e",
   "metadata": {},
   "outputs": [],
   "source": [
    "#Assign states to the 'West' region\n",
    "df_2.loc[(df_2['state'] == 'Idaho') |\n",
    "(df_2['state'] == 'Montana') |\n",
    "(df_2['state'] == 'Wyoming') |\n",
    "(df_2['state'] == 'Nevada') |\n",
    "(df_2['state'] == 'Utah') |\n",
    "(df_2['state'] == 'Colorado')|\n",
    "(df_2['state'] == 'Arizona')|\n",
    "(df_2['state'] == 'New Mexico')|\n",
    "(df_2['state'] == 'Alaska')|\n",
    "(df_2['state'] == 'Washington')|\n",
    "(df_2['state'] == 'Oregon')|\n",
    "(df_2['state'] == 'California')|\n",
    "(df_2['state'] == 'Hawaii'),\n",
    "'region'] = 'West'"
   ]
  },
  {
   "cell_type": "markdown",
   "id": "0a6a42a8",
   "metadata": {},
   "source": [
    "Determine whether there’s a difference in spending habits between the different U.S. regions. "
   ]
  },
  {
   "cell_type": "code",
   "execution_count": 11,
   "id": "d43ac485",
   "metadata": {},
   "outputs": [],
   "source": [
    "#Create pivot table that aggregates spending types based on region.\n",
    "df_3 = df_2.pivot_table(index = 'region', columns = 'spending_flag', aggfunc = 'size', fill_value = 0)"
   ]
  },
  {
   "cell_type": "code",
   "execution_count": 12,
   "id": "5b44bedf",
   "metadata": {},
   "outputs": [
    {
     "data": {
      "text/html": [
       "<div>\n",
       "<style scoped>\n",
       "    .dataframe tbody tr th:only-of-type {\n",
       "        vertical-align: middle;\n",
       "    }\n",
       "\n",
       "    .dataframe tbody tr th {\n",
       "        vertical-align: top;\n",
       "    }\n",
       "\n",
       "    .dataframe thead th {\n",
       "        text-align: right;\n",
       "    }\n",
       "</style>\n",
       "<table border=\"1\" class=\"dataframe\">\n",
       "  <thead>\n",
       "    <tr style=\"text-align: right;\">\n",
       "      <th>spending_flag</th>\n",
       "      <th>High spender</th>\n",
       "      <th>Low spender</th>\n",
       "    </tr>\n",
       "    <tr>\n",
       "      <th>region</th>\n",
       "      <th></th>\n",
       "      <th></th>\n",
       "    </tr>\n",
       "  </thead>\n",
       "  <tbody>\n",
       "    <tr>\n",
       "      <th>Midwest</th>\n",
       "      <td>155975</td>\n",
       "      <td>7441350</td>\n",
       "    </tr>\n",
       "    <tr>\n",
       "      <th>Northeast</th>\n",
       "      <td>108225</td>\n",
       "      <td>5614511</td>\n",
       "    </tr>\n",
       "    <tr>\n",
       "      <th>South</th>\n",
       "      <td>209691</td>\n",
       "      <td>10582194</td>\n",
       "    </tr>\n",
       "    <tr>\n",
       "      <th>West</th>\n",
       "      <td>160354</td>\n",
       "      <td>8132559</td>\n",
       "    </tr>\n",
       "  </tbody>\n",
       "</table>\n",
       "</div>"
      ],
      "text/plain": [
       "spending_flag  High spender  Low spender\n",
       "region                                  \n",
       "Midwest              155975      7441350\n",
       "Northeast            108225      5614511\n",
       "South                209691     10582194\n",
       "West                 160354      8132559"
      ]
     },
     "execution_count": 12,
     "metadata": {},
     "output_type": "execute_result"
    }
   ],
   "source": [
    "#Check df_3 results\n",
    "df_3"
   ]
  },
  {
   "cell_type": "code",
   "execution_count": 13,
   "id": "be67ffe3",
   "metadata": {},
   "outputs": [
    {
     "data": {
      "text/plain": [
       "region\n",
       "Midwest       96603658.7\n",
       "Northeast     66126199.8\n",
       "South        131613265.4\n",
       "West          93874398.7\n",
       "Name: prices, dtype: float64"
      ]
     },
     "execution_count": 13,
     "metadata": {},
     "output_type": "execute_result"
    }
   ],
   "source": [
    "#Show the total amount spent by all customers for each region.\n",
    "df_2.groupby('region')['prices'].sum()"
   ]
  },
  {
   "cell_type": "markdown",
   "id": "231ce29c",
   "metadata": {},
   "source": [
    "Observation: There is a difference in spending habits across the country. It seems that people in the South tend to be both high spender and low spender. While people in the Northeast tend to spend less overall. "
   ]
  },
  {
   "cell_type": "markdown",
   "id": "ffdcf25b",
   "metadata": {},
   "source": [
    "# Step 4"
   ]
  },
  {
   "cell_type": "markdown",
   "id": "6f3dc9d9",
   "metadata": {},
   "source": [
    "The Instacart CFO isn’t interested in customers who don’t generate much revenue for the app. Create an exclusion flag for low-activity customers (customers with less than 5 orders) and exclude them from the data. "
   ]
  },
  {
   "cell_type": "code",
   "execution_count": 14,
   "id": "8b3e64f3",
   "metadata": {},
   "outputs": [],
   "source": [
    "#Create a new column named 'order_flag' and insert the text 'Fewer than 5' if the user has made fewer than 5 orders.\n",
    "#If the user has made 5 or more orders, insert the text '5 or more'.\n",
    "\n",
    "df_2['order_flag'] = np.where(df_2['max_order'] < 5, 'Fewer than 5', '5 or more')"
   ]
  },
  {
   "cell_type": "code",
   "execution_count": 15,
   "id": "6197be9f",
   "metadata": {},
   "outputs": [
    {
     "data": {
      "text/html": [
       "<div>\n",
       "<style scoped>\n",
       "    .dataframe tbody tr th:only-of-type {\n",
       "        vertical-align: middle;\n",
       "    }\n",
       "\n",
       "    .dataframe tbody tr th {\n",
       "        vertical-align: top;\n",
       "    }\n",
       "\n",
       "    .dataframe thead th {\n",
       "        text-align: right;\n",
       "    }\n",
       "</style>\n",
       "<table border=\"1\" class=\"dataframe\">\n",
       "  <thead>\n",
       "    <tr style=\"text-align: right;\">\n",
       "      <th></th>\n",
       "      <th>product_id</th>\n",
       "      <th>product_name</th>\n",
       "      <th>aisle_id</th>\n",
       "      <th>department_id</th>\n",
       "      <th>prices</th>\n",
       "      <th>order_id</th>\n",
       "      <th>user_id</th>\n",
       "      <th>order_number</th>\n",
       "      <th>orders_day_of_week</th>\n",
       "      <th>order_hour_of_day</th>\n",
       "      <th>...</th>\n",
       "      <th>gender</th>\n",
       "      <th>state</th>\n",
       "      <th>age</th>\n",
       "      <th>date_joined</th>\n",
       "      <th>n_dependants</th>\n",
       "      <th>fam_status</th>\n",
       "      <th>income</th>\n",
       "      <th>_merge</th>\n",
       "      <th>region</th>\n",
       "      <th>order_flag</th>\n",
       "    </tr>\n",
       "  </thead>\n",
       "  <tbody>\n",
       "    <tr>\n",
       "      <th>0</th>\n",
       "      <td>1</td>\n",
       "      <td>Chocolate Sandwich Cookies</td>\n",
       "      <td>61</td>\n",
       "      <td>19</td>\n",
       "      <td>5.8</td>\n",
       "      <td>3139998</td>\n",
       "      <td>138</td>\n",
       "      <td>28</td>\n",
       "      <td>6</td>\n",
       "      <td>11</td>\n",
       "      <td>...</td>\n",
       "      <td>Male</td>\n",
       "      <td>Minnesota</td>\n",
       "      <td>81</td>\n",
       "      <td>2019-08-01</td>\n",
       "      <td>1</td>\n",
       "      <td>married</td>\n",
       "      <td>49620</td>\n",
       "      <td>both</td>\n",
       "      <td>Midwest</td>\n",
       "      <td>5 or more</td>\n",
       "    </tr>\n",
       "    <tr>\n",
       "      <th>1</th>\n",
       "      <td>1</td>\n",
       "      <td>Chocolate Sandwich Cookies</td>\n",
       "      <td>61</td>\n",
       "      <td>19</td>\n",
       "      <td>5.8</td>\n",
       "      <td>1977647</td>\n",
       "      <td>138</td>\n",
       "      <td>30</td>\n",
       "      <td>6</td>\n",
       "      <td>17</td>\n",
       "      <td>...</td>\n",
       "      <td>Male</td>\n",
       "      <td>Minnesota</td>\n",
       "      <td>81</td>\n",
       "      <td>2019-08-01</td>\n",
       "      <td>1</td>\n",
       "      <td>married</td>\n",
       "      <td>49620</td>\n",
       "      <td>both</td>\n",
       "      <td>Midwest</td>\n",
       "      <td>5 or more</td>\n",
       "    </tr>\n",
       "    <tr>\n",
       "      <th>2</th>\n",
       "      <td>907</td>\n",
       "      <td>Premium Sliced Bacon</td>\n",
       "      <td>106</td>\n",
       "      <td>12</td>\n",
       "      <td>20.0</td>\n",
       "      <td>3160996</td>\n",
       "      <td>138</td>\n",
       "      <td>1</td>\n",
       "      <td>5</td>\n",
       "      <td>13</td>\n",
       "      <td>...</td>\n",
       "      <td>Male</td>\n",
       "      <td>Minnesota</td>\n",
       "      <td>81</td>\n",
       "      <td>2019-08-01</td>\n",
       "      <td>1</td>\n",
       "      <td>married</td>\n",
       "      <td>49620</td>\n",
       "      <td>both</td>\n",
       "      <td>Midwest</td>\n",
       "      <td>5 or more</td>\n",
       "    </tr>\n",
       "    <tr>\n",
       "      <th>3</th>\n",
       "      <td>907</td>\n",
       "      <td>Premium Sliced Bacon</td>\n",
       "      <td>106</td>\n",
       "      <td>12</td>\n",
       "      <td>20.0</td>\n",
       "      <td>2254091</td>\n",
       "      <td>138</td>\n",
       "      <td>10</td>\n",
       "      <td>5</td>\n",
       "      <td>14</td>\n",
       "      <td>...</td>\n",
       "      <td>Male</td>\n",
       "      <td>Minnesota</td>\n",
       "      <td>81</td>\n",
       "      <td>2019-08-01</td>\n",
       "      <td>1</td>\n",
       "      <td>married</td>\n",
       "      <td>49620</td>\n",
       "      <td>both</td>\n",
       "      <td>Midwest</td>\n",
       "      <td>5 or more</td>\n",
       "    </tr>\n",
       "    <tr>\n",
       "      <th>4</th>\n",
       "      <td>1000</td>\n",
       "      <td>Apricots</td>\n",
       "      <td>18</td>\n",
       "      <td>10</td>\n",
       "      <td>12.9</td>\n",
       "      <td>505689</td>\n",
       "      <td>138</td>\n",
       "      <td>9</td>\n",
       "      <td>6</td>\n",
       "      <td>12</td>\n",
       "      <td>...</td>\n",
       "      <td>Male</td>\n",
       "      <td>Minnesota</td>\n",
       "      <td>81</td>\n",
       "      <td>2019-08-01</td>\n",
       "      <td>1</td>\n",
       "      <td>married</td>\n",
       "      <td>49620</td>\n",
       "      <td>both</td>\n",
       "      <td>Midwest</td>\n",
       "      <td>5 or more</td>\n",
       "    </tr>\n",
       "  </tbody>\n",
       "</table>\n",
       "<p>5 rows × 33 columns</p>\n",
       "</div>"
      ],
      "text/plain": [
       "   product_id                product_name  aisle_id  department_id  prices  \\\n",
       "0           1  Chocolate Sandwich Cookies        61             19     5.8   \n",
       "1           1  Chocolate Sandwich Cookies        61             19     5.8   \n",
       "2         907        Premium Sliced Bacon       106             12    20.0   \n",
       "3         907        Premium Sliced Bacon       106             12    20.0   \n",
       "4        1000                    Apricots        18             10    12.9   \n",
       "\n",
       "   order_id user_id  order_number  orders_day_of_week  order_hour_of_day  ...  \\\n",
       "0   3139998     138            28                   6                 11  ...   \n",
       "1   1977647     138            30                   6                 17  ...   \n",
       "2   3160996     138             1                   5                 13  ...   \n",
       "3   2254091     138            10                   5                 14  ...   \n",
       "4    505689     138             9                   6                 12  ...   \n",
       "\n",
       "   gender      state  age date_joined n_dependants fam_status income  _merge  \\\n",
       "0    Male  Minnesota   81  2019-08-01            1    married  49620    both   \n",
       "1    Male  Minnesota   81  2019-08-01            1    married  49620    both   \n",
       "2    Male  Minnesota   81  2019-08-01            1    married  49620    both   \n",
       "3    Male  Minnesota   81  2019-08-01            1    married  49620    both   \n",
       "4    Male  Minnesota   81  2019-08-01            1    married  49620    both   \n",
       "\n",
       "    region  order_flag  \n",
       "0  Midwest   5 or more  \n",
       "1  Midwest   5 or more  \n",
       "2  Midwest   5 or more  \n",
       "3  Midwest   5 or more  \n",
       "4  Midwest   5 or more  \n",
       "\n",
       "[5 rows x 33 columns]"
      ]
     },
     "execution_count": 15,
     "metadata": {},
     "output_type": "execute_result"
    }
   ],
   "source": [
    "#Check results\n",
    "df_2.head()"
   ]
  },
  {
   "cell_type": "code",
   "execution_count": 16,
   "id": "0a10bbfb",
   "metadata": {},
   "outputs": [
    {
     "data": {
      "text/html": [
       "<div>\n",
       "<style scoped>\n",
       "    .dataframe tbody tr th:only-of-type {\n",
       "        vertical-align: middle;\n",
       "    }\n",
       "\n",
       "    .dataframe tbody tr th {\n",
       "        vertical-align: top;\n",
       "    }\n",
       "\n",
       "    .dataframe thead th {\n",
       "        text-align: right;\n",
       "    }\n",
       "</style>\n",
       "<table border=\"1\" class=\"dataframe\">\n",
       "  <thead>\n",
       "    <tr style=\"text-align: right;\">\n",
       "      <th></th>\n",
       "      <th>product_id</th>\n",
       "      <th>product_name</th>\n",
       "      <th>aisle_id</th>\n",
       "      <th>department_id</th>\n",
       "      <th>prices</th>\n",
       "      <th>order_id</th>\n",
       "      <th>user_id</th>\n",
       "      <th>order_number</th>\n",
       "      <th>orders_day_of_week</th>\n",
       "      <th>order_hour_of_day</th>\n",
       "      <th>...</th>\n",
       "      <th>gender</th>\n",
       "      <th>state</th>\n",
       "      <th>age</th>\n",
       "      <th>date_joined</th>\n",
       "      <th>n_dependants</th>\n",
       "      <th>fam_status</th>\n",
       "      <th>income</th>\n",
       "      <th>_merge</th>\n",
       "      <th>region</th>\n",
       "      <th>order_flag</th>\n",
       "    </tr>\n",
       "  </thead>\n",
       "  <tbody>\n",
       "    <tr>\n",
       "      <th>32404854</th>\n",
       "      <td>49235</td>\n",
       "      <td>Organic Half &amp; Half</td>\n",
       "      <td>53</td>\n",
       "      <td>16</td>\n",
       "      <td>1.8</td>\n",
       "      <td>2542346</td>\n",
       "      <td>80734</td>\n",
       "      <td>3</td>\n",
       "      <td>3</td>\n",
       "      <td>8</td>\n",
       "      <td>...</td>\n",
       "      <td>Male</td>\n",
       "      <td>Alabama</td>\n",
       "      <td>45</td>\n",
       "      <td>2019-09-28</td>\n",
       "      <td>1</td>\n",
       "      <td>married</td>\n",
       "      <td>41072</td>\n",
       "      <td>both</td>\n",
       "      <td>South</td>\n",
       "      <td>Fewer than 5</td>\n",
       "    </tr>\n",
       "    <tr>\n",
       "      <th>32404855</th>\n",
       "      <td>49520</td>\n",
       "      <td>Orange Sparkling Water</td>\n",
       "      <td>115</td>\n",
       "      <td>7</td>\n",
       "      <td>7.5</td>\n",
       "      <td>1363278</td>\n",
       "      <td>74506</td>\n",
       "      <td>1</td>\n",
       "      <td>1</td>\n",
       "      <td>14</td>\n",
       "      <td>...</td>\n",
       "      <td>Male</td>\n",
       "      <td>Vermont</td>\n",
       "      <td>44</td>\n",
       "      <td>2018-04-16</td>\n",
       "      <td>3</td>\n",
       "      <td>married</td>\n",
       "      <td>97209</td>\n",
       "      <td>both</td>\n",
       "      <td>Northeast</td>\n",
       "      <td>Fewer than 5</td>\n",
       "    </tr>\n",
       "    <tr>\n",
       "      <th>32404856</th>\n",
       "      <td>49520</td>\n",
       "      <td>Orange Sparkling Water</td>\n",
       "      <td>115</td>\n",
       "      <td>7</td>\n",
       "      <td>7.5</td>\n",
       "      <td>2008002</td>\n",
       "      <td>74506</td>\n",
       "      <td>2</td>\n",
       "      <td>0</td>\n",
       "      <td>15</td>\n",
       "      <td>...</td>\n",
       "      <td>Male</td>\n",
       "      <td>Vermont</td>\n",
       "      <td>44</td>\n",
       "      <td>2018-04-16</td>\n",
       "      <td>3</td>\n",
       "      <td>married</td>\n",
       "      <td>97209</td>\n",
       "      <td>both</td>\n",
       "      <td>Northeast</td>\n",
       "      <td>Fewer than 5</td>\n",
       "    </tr>\n",
       "    <tr>\n",
       "      <th>32404857</th>\n",
       "      <td>49520</td>\n",
       "      <td>Orange Sparkling Water</td>\n",
       "      <td>115</td>\n",
       "      <td>7</td>\n",
       "      <td>7.5</td>\n",
       "      <td>1595973</td>\n",
       "      <td>74506</td>\n",
       "      <td>3</td>\n",
       "      <td>1</td>\n",
       "      <td>17</td>\n",
       "      <td>...</td>\n",
       "      <td>Male</td>\n",
       "      <td>Vermont</td>\n",
       "      <td>44</td>\n",
       "      <td>2018-04-16</td>\n",
       "      <td>3</td>\n",
       "      <td>married</td>\n",
       "      <td>97209</td>\n",
       "      <td>both</td>\n",
       "      <td>Northeast</td>\n",
       "      <td>Fewer than 5</td>\n",
       "    </tr>\n",
       "    <tr>\n",
       "      <th>32404858</th>\n",
       "      <td>49520</td>\n",
       "      <td>Orange Sparkling Water</td>\n",
       "      <td>115</td>\n",
       "      <td>7</td>\n",
       "      <td>7.5</td>\n",
       "      <td>1680478</td>\n",
       "      <td>74506</td>\n",
       "      <td>4</td>\n",
       "      <td>0</td>\n",
       "      <td>16</td>\n",
       "      <td>...</td>\n",
       "      <td>Male</td>\n",
       "      <td>Vermont</td>\n",
       "      <td>44</td>\n",
       "      <td>2018-04-16</td>\n",
       "      <td>3</td>\n",
       "      <td>married</td>\n",
       "      <td>97209</td>\n",
       "      <td>both</td>\n",
       "      <td>Northeast</td>\n",
       "      <td>Fewer than 5</td>\n",
       "    </tr>\n",
       "  </tbody>\n",
       "</table>\n",
       "<p>5 rows × 33 columns</p>\n",
       "</div>"
      ],
      "text/plain": [
       "          product_id            product_name  aisle_id  department_id  prices  \\\n",
       "32404854       49235     Organic Half & Half        53             16     1.8   \n",
       "32404855       49520  Orange Sparkling Water       115              7     7.5   \n",
       "32404856       49520  Orange Sparkling Water       115              7     7.5   \n",
       "32404857       49520  Orange Sparkling Water       115              7     7.5   \n",
       "32404858       49520  Orange Sparkling Water       115              7     7.5   \n",
       "\n",
       "          order_id user_id  order_number  orders_day_of_week  \\\n",
       "32404854   2542346   80734             3                   3   \n",
       "32404855   1363278   74506             1                   1   \n",
       "32404856   2008002   74506             2                   0   \n",
       "32404857   1595973   74506             3                   1   \n",
       "32404858   1680478   74506             4                   0   \n",
       "\n",
       "          order_hour_of_day  ...  gender    state  age date_joined  \\\n",
       "32404854                  8  ...    Male  Alabama   45  2019-09-28   \n",
       "32404855                 14  ...    Male  Vermont   44  2018-04-16   \n",
       "32404856                 15  ...    Male  Vermont   44  2018-04-16   \n",
       "32404857                 17  ...    Male  Vermont   44  2018-04-16   \n",
       "32404858                 16  ...    Male  Vermont   44  2018-04-16   \n",
       "\n",
       "         n_dependants fam_status income  _merge     region    order_flag  \n",
       "32404854            1    married  41072    both      South  Fewer than 5  \n",
       "32404855            3    married  97209    both  Northeast  Fewer than 5  \n",
       "32404856            3    married  97209    both  Northeast  Fewer than 5  \n",
       "32404857            3    married  97209    both  Northeast  Fewer than 5  \n",
       "32404858            3    married  97209    both  Northeast  Fewer than 5  \n",
       "\n",
       "[5 rows x 33 columns]"
      ]
     },
     "execution_count": 16,
     "metadata": {},
     "output_type": "execute_result"
    }
   ],
   "source": [
    "df_2.tail()"
   ]
  },
  {
   "cell_type": "code",
   "execution_count": 17,
   "id": "54d49024",
   "metadata": {},
   "outputs": [],
   "source": [
    "df_fewer_than_5 = df_2[df_2['order_flag'] == 'Fewer than 5']"
   ]
  },
  {
   "cell_type": "code",
   "execution_count": 18,
   "id": "ce67b423",
   "metadata": {},
   "outputs": [],
   "source": [
    "#Assign all orders with an 'order_flag' value of '5 or more' to the df_2 dataframe.\n",
    "df_2 = df_2[df_2['order_flag'] == '5 or more']"
   ]
  },
  {
   "cell_type": "code",
   "execution_count": 19,
   "id": "be5bdd7b",
   "metadata": {},
   "outputs": [
    {
     "data": {
      "text/html": [
       "<div>\n",
       "<style scoped>\n",
       "    .dataframe tbody tr th:only-of-type {\n",
       "        vertical-align: middle;\n",
       "    }\n",
       "\n",
       "    .dataframe tbody tr th {\n",
       "        vertical-align: top;\n",
       "    }\n",
       "\n",
       "    .dataframe thead th {\n",
       "        text-align: right;\n",
       "    }\n",
       "</style>\n",
       "<table border=\"1\" class=\"dataframe\">\n",
       "  <thead>\n",
       "    <tr style=\"text-align: right;\">\n",
       "      <th></th>\n",
       "      <th>product_id</th>\n",
       "      <th>product_name</th>\n",
       "      <th>aisle_id</th>\n",
       "      <th>department_id</th>\n",
       "      <th>prices</th>\n",
       "      <th>order_id</th>\n",
       "      <th>user_id</th>\n",
       "      <th>order_number</th>\n",
       "      <th>orders_day_of_week</th>\n",
       "      <th>order_hour_of_day</th>\n",
       "      <th>...</th>\n",
       "      <th>gender</th>\n",
       "      <th>state</th>\n",
       "      <th>age</th>\n",
       "      <th>date_joined</th>\n",
       "      <th>n_dependants</th>\n",
       "      <th>fam_status</th>\n",
       "      <th>income</th>\n",
       "      <th>_merge</th>\n",
       "      <th>region</th>\n",
       "      <th>order_flag</th>\n",
       "    </tr>\n",
       "  </thead>\n",
       "  <tbody>\n",
       "    <tr>\n",
       "      <th>0</th>\n",
       "      <td>1</td>\n",
       "      <td>Chocolate Sandwich Cookies</td>\n",
       "      <td>61</td>\n",
       "      <td>19</td>\n",
       "      <td>5.8</td>\n",
       "      <td>3139998</td>\n",
       "      <td>138</td>\n",
       "      <td>28</td>\n",
       "      <td>6</td>\n",
       "      <td>11</td>\n",
       "      <td>...</td>\n",
       "      <td>Male</td>\n",
       "      <td>Minnesota</td>\n",
       "      <td>81</td>\n",
       "      <td>2019-08-01</td>\n",
       "      <td>1</td>\n",
       "      <td>married</td>\n",
       "      <td>49620</td>\n",
       "      <td>both</td>\n",
       "      <td>Midwest</td>\n",
       "      <td>5 or more</td>\n",
       "    </tr>\n",
       "    <tr>\n",
       "      <th>1</th>\n",
       "      <td>1</td>\n",
       "      <td>Chocolate Sandwich Cookies</td>\n",
       "      <td>61</td>\n",
       "      <td>19</td>\n",
       "      <td>5.8</td>\n",
       "      <td>1977647</td>\n",
       "      <td>138</td>\n",
       "      <td>30</td>\n",
       "      <td>6</td>\n",
       "      <td>17</td>\n",
       "      <td>...</td>\n",
       "      <td>Male</td>\n",
       "      <td>Minnesota</td>\n",
       "      <td>81</td>\n",
       "      <td>2019-08-01</td>\n",
       "      <td>1</td>\n",
       "      <td>married</td>\n",
       "      <td>49620</td>\n",
       "      <td>both</td>\n",
       "      <td>Midwest</td>\n",
       "      <td>5 or more</td>\n",
       "    </tr>\n",
       "    <tr>\n",
       "      <th>2</th>\n",
       "      <td>907</td>\n",
       "      <td>Premium Sliced Bacon</td>\n",
       "      <td>106</td>\n",
       "      <td>12</td>\n",
       "      <td>20.0</td>\n",
       "      <td>3160996</td>\n",
       "      <td>138</td>\n",
       "      <td>1</td>\n",
       "      <td>5</td>\n",
       "      <td>13</td>\n",
       "      <td>...</td>\n",
       "      <td>Male</td>\n",
       "      <td>Minnesota</td>\n",
       "      <td>81</td>\n",
       "      <td>2019-08-01</td>\n",
       "      <td>1</td>\n",
       "      <td>married</td>\n",
       "      <td>49620</td>\n",
       "      <td>both</td>\n",
       "      <td>Midwest</td>\n",
       "      <td>5 or more</td>\n",
       "    </tr>\n",
       "    <tr>\n",
       "      <th>3</th>\n",
       "      <td>907</td>\n",
       "      <td>Premium Sliced Bacon</td>\n",
       "      <td>106</td>\n",
       "      <td>12</td>\n",
       "      <td>20.0</td>\n",
       "      <td>2254091</td>\n",
       "      <td>138</td>\n",
       "      <td>10</td>\n",
       "      <td>5</td>\n",
       "      <td>14</td>\n",
       "      <td>...</td>\n",
       "      <td>Male</td>\n",
       "      <td>Minnesota</td>\n",
       "      <td>81</td>\n",
       "      <td>2019-08-01</td>\n",
       "      <td>1</td>\n",
       "      <td>married</td>\n",
       "      <td>49620</td>\n",
       "      <td>both</td>\n",
       "      <td>Midwest</td>\n",
       "      <td>5 or more</td>\n",
       "    </tr>\n",
       "    <tr>\n",
       "      <th>4</th>\n",
       "      <td>1000</td>\n",
       "      <td>Apricots</td>\n",
       "      <td>18</td>\n",
       "      <td>10</td>\n",
       "      <td>12.9</td>\n",
       "      <td>505689</td>\n",
       "      <td>138</td>\n",
       "      <td>9</td>\n",
       "      <td>6</td>\n",
       "      <td>12</td>\n",
       "      <td>...</td>\n",
       "      <td>Male</td>\n",
       "      <td>Minnesota</td>\n",
       "      <td>81</td>\n",
       "      <td>2019-08-01</td>\n",
       "      <td>1</td>\n",
       "      <td>married</td>\n",
       "      <td>49620</td>\n",
       "      <td>both</td>\n",
       "      <td>Midwest</td>\n",
       "      <td>5 or more</td>\n",
       "    </tr>\n",
       "  </tbody>\n",
       "</table>\n",
       "<p>5 rows × 33 columns</p>\n",
       "</div>"
      ],
      "text/plain": [
       "   product_id                product_name  aisle_id  department_id  prices  \\\n",
       "0           1  Chocolate Sandwich Cookies        61             19     5.8   \n",
       "1           1  Chocolate Sandwich Cookies        61             19     5.8   \n",
       "2         907        Premium Sliced Bacon       106             12    20.0   \n",
       "3         907        Premium Sliced Bacon       106             12    20.0   \n",
       "4        1000                    Apricots        18             10    12.9   \n",
       "\n",
       "   order_id user_id  order_number  orders_day_of_week  order_hour_of_day  ...  \\\n",
       "0   3139998     138            28                   6                 11  ...   \n",
       "1   1977647     138            30                   6                 17  ...   \n",
       "2   3160996     138             1                   5                 13  ...   \n",
       "3   2254091     138            10                   5                 14  ...   \n",
       "4    505689     138             9                   6                 12  ...   \n",
       "\n",
       "   gender      state  age date_joined n_dependants fam_status income  _merge  \\\n",
       "0    Male  Minnesota   81  2019-08-01            1    married  49620    both   \n",
       "1    Male  Minnesota   81  2019-08-01            1    married  49620    both   \n",
       "2    Male  Minnesota   81  2019-08-01            1    married  49620    both   \n",
       "3    Male  Minnesota   81  2019-08-01            1    married  49620    both   \n",
       "4    Male  Minnesota   81  2019-08-01            1    married  49620    both   \n",
       "\n",
       "    region  order_flag  \n",
       "0  Midwest   5 or more  \n",
       "1  Midwest   5 or more  \n",
       "2  Midwest   5 or more  \n",
       "3  Midwest   5 or more  \n",
       "4  Midwest   5 or more  \n",
       "\n",
       "[5 rows x 33 columns]"
      ]
     },
     "execution_count": 19,
     "metadata": {},
     "output_type": "execute_result"
    }
   ],
   "source": [
    "#Check results\n",
    "df_2.head()"
   ]
  },
  {
   "cell_type": "code",
   "execution_count": 20,
   "id": "4ca75838",
   "metadata": {},
   "outputs": [
    {
     "data": {
      "text/html": [
       "<div>\n",
       "<style scoped>\n",
       "    .dataframe tbody tr th:only-of-type {\n",
       "        vertical-align: middle;\n",
       "    }\n",
       "\n",
       "    .dataframe tbody tr th {\n",
       "        vertical-align: top;\n",
       "    }\n",
       "\n",
       "    .dataframe thead th {\n",
       "        text-align: right;\n",
       "    }\n",
       "</style>\n",
       "<table border=\"1\" class=\"dataframe\">\n",
       "  <thead>\n",
       "    <tr style=\"text-align: right;\">\n",
       "      <th></th>\n",
       "      <th>product_id</th>\n",
       "      <th>product_name</th>\n",
       "      <th>aisle_id</th>\n",
       "      <th>department_id</th>\n",
       "      <th>prices</th>\n",
       "      <th>order_id</th>\n",
       "      <th>user_id</th>\n",
       "      <th>order_number</th>\n",
       "      <th>orders_day_of_week</th>\n",
       "      <th>order_hour_of_day</th>\n",
       "      <th>...</th>\n",
       "      <th>gender</th>\n",
       "      <th>state</th>\n",
       "      <th>age</th>\n",
       "      <th>date_joined</th>\n",
       "      <th>n_dependants</th>\n",
       "      <th>fam_status</th>\n",
       "      <th>income</th>\n",
       "      <th>_merge</th>\n",
       "      <th>region</th>\n",
       "      <th>order_flag</th>\n",
       "    </tr>\n",
       "  </thead>\n",
       "  <tbody>\n",
       "    <tr>\n",
       "      <th>32404843</th>\n",
       "      <td>49235</td>\n",
       "      <td>Organic Half &amp; Half</td>\n",
       "      <td>53</td>\n",
       "      <td>16</td>\n",
       "      <td>1.8</td>\n",
       "      <td>3310701</td>\n",
       "      <td>27382</td>\n",
       "      <td>5</td>\n",
       "      <td>3</td>\n",
       "      <td>9</td>\n",
       "      <td>...</td>\n",
       "      <td>Female</td>\n",
       "      <td>Vermont</td>\n",
       "      <td>68</td>\n",
       "      <td>2019-11-25</td>\n",
       "      <td>3</td>\n",
       "      <td>married</td>\n",
       "      <td>37867</td>\n",
       "      <td>both</td>\n",
       "      <td>Northeast</td>\n",
       "      <td>5 or more</td>\n",
       "    </tr>\n",
       "    <tr>\n",
       "      <th>32404844</th>\n",
       "      <td>49235</td>\n",
       "      <td>Organic Half &amp; Half</td>\n",
       "      <td>53</td>\n",
       "      <td>16</td>\n",
       "      <td>1.8</td>\n",
       "      <td>527883</td>\n",
       "      <td>27382</td>\n",
       "      <td>6</td>\n",
       "      <td>1</td>\n",
       "      <td>12</td>\n",
       "      <td>...</td>\n",
       "      <td>Female</td>\n",
       "      <td>Vermont</td>\n",
       "      <td>68</td>\n",
       "      <td>2019-11-25</td>\n",
       "      <td>3</td>\n",
       "      <td>married</td>\n",
       "      <td>37867</td>\n",
       "      <td>both</td>\n",
       "      <td>Northeast</td>\n",
       "      <td>5 or more</td>\n",
       "    </tr>\n",
       "    <tr>\n",
       "      <th>32404845</th>\n",
       "      <td>49235</td>\n",
       "      <td>Organic Half &amp; Half</td>\n",
       "      <td>53</td>\n",
       "      <td>16</td>\n",
       "      <td>1.8</td>\n",
       "      <td>685496</td>\n",
       "      <td>27382</td>\n",
       "      <td>7</td>\n",
       "      <td>4</td>\n",
       "      <td>8</td>\n",
       "      <td>...</td>\n",
       "      <td>Female</td>\n",
       "      <td>Vermont</td>\n",
       "      <td>68</td>\n",
       "      <td>2019-11-25</td>\n",
       "      <td>3</td>\n",
       "      <td>married</td>\n",
       "      <td>37867</td>\n",
       "      <td>both</td>\n",
       "      <td>Northeast</td>\n",
       "      <td>5 or more</td>\n",
       "    </tr>\n",
       "    <tr>\n",
       "      <th>32404846</th>\n",
       "      <td>49235</td>\n",
       "      <td>Organic Half &amp; Half</td>\n",
       "      <td>53</td>\n",
       "      <td>16</td>\n",
       "      <td>1.8</td>\n",
       "      <td>1224680</td>\n",
       "      <td>27382</td>\n",
       "      <td>8</td>\n",
       "      <td>1</td>\n",
       "      <td>7</td>\n",
       "      <td>...</td>\n",
       "      <td>Female</td>\n",
       "      <td>Vermont</td>\n",
       "      <td>68</td>\n",
       "      <td>2019-11-25</td>\n",
       "      <td>3</td>\n",
       "      <td>married</td>\n",
       "      <td>37867</td>\n",
       "      <td>both</td>\n",
       "      <td>Northeast</td>\n",
       "      <td>5 or more</td>\n",
       "    </tr>\n",
       "    <tr>\n",
       "      <th>32404847</th>\n",
       "      <td>49235</td>\n",
       "      <td>Organic Half &amp; Half</td>\n",
       "      <td>53</td>\n",
       "      <td>16</td>\n",
       "      <td>1.8</td>\n",
       "      <td>2223687</td>\n",
       "      <td>27382</td>\n",
       "      <td>9</td>\n",
       "      <td>2</td>\n",
       "      <td>12</td>\n",
       "      <td>...</td>\n",
       "      <td>Female</td>\n",
       "      <td>Vermont</td>\n",
       "      <td>68</td>\n",
       "      <td>2019-11-25</td>\n",
       "      <td>3</td>\n",
       "      <td>married</td>\n",
       "      <td>37867</td>\n",
       "      <td>both</td>\n",
       "      <td>Northeast</td>\n",
       "      <td>5 or more</td>\n",
       "    </tr>\n",
       "  </tbody>\n",
       "</table>\n",
       "<p>5 rows × 33 columns</p>\n",
       "</div>"
      ],
      "text/plain": [
       "          product_id         product_name  aisle_id  department_id  prices  \\\n",
       "32404843       49235  Organic Half & Half        53             16     1.8   \n",
       "32404844       49235  Organic Half & Half        53             16     1.8   \n",
       "32404845       49235  Organic Half & Half        53             16     1.8   \n",
       "32404846       49235  Organic Half & Half        53             16     1.8   \n",
       "32404847       49235  Organic Half & Half        53             16     1.8   \n",
       "\n",
       "          order_id user_id  order_number  orders_day_of_week  \\\n",
       "32404843   3310701   27382             5                   3   \n",
       "32404844    527883   27382             6                   1   \n",
       "32404845    685496   27382             7                   4   \n",
       "32404846   1224680   27382             8                   1   \n",
       "32404847   2223687   27382             9                   2   \n",
       "\n",
       "          order_hour_of_day  ...  gender    state  age date_joined  \\\n",
       "32404843                  9  ...  Female  Vermont   68  2019-11-25   \n",
       "32404844                 12  ...  Female  Vermont   68  2019-11-25   \n",
       "32404845                  8  ...  Female  Vermont   68  2019-11-25   \n",
       "32404846                  7  ...  Female  Vermont   68  2019-11-25   \n",
       "32404847                 12  ...  Female  Vermont   68  2019-11-25   \n",
       "\n",
       "         n_dependants fam_status income  _merge     region  order_flag  \n",
       "32404843            3    married  37867    both  Northeast   5 or more  \n",
       "32404844            3    married  37867    both  Northeast   5 or more  \n",
       "32404845            3    married  37867    both  Northeast   5 or more  \n",
       "32404846            3    married  37867    both  Northeast   5 or more  \n",
       "32404847            3    married  37867    both  Northeast   5 or more  \n",
       "\n",
       "[5 rows x 33 columns]"
      ]
     },
     "execution_count": 20,
     "metadata": {},
     "output_type": "execute_result"
    }
   ],
   "source": [
    "df_2.tail()"
   ]
  },
  {
   "cell_type": "markdown",
   "id": "57691ac9",
   "metadata": {},
   "source": [
    "# Step 5 & 6"
   ]
  },
  {
   "cell_type": "markdown",
   "id": "071aa95e",
   "metadata": {},
   "source": [
    "Create a profiling variable based on age, income, certain goods in the “department_id” column, and number of dependents. You might also use the “orders_day_of_week” and “order_hour_of_day” columns if you can think of a way they would impact customer profiles. "
   ]
  },
  {
   "cell_type": "markdown",
   "id": "3f05c6fb",
   "metadata": {},
   "source": [
    "Create an appropriate visualization to show the distribution of profiles."
   ]
  },
  {
   "cell_type": "markdown",
   "id": "c3edc154",
   "metadata": {},
   "source": [
    "# Age Flag"
   ]
  },
  {
   "cell_type": "code",
   "execution_count": 21,
   "id": "34da2e0a",
   "metadata": {},
   "outputs": [
    {
     "name": "stderr",
     "output_type": "stream",
     "text": [
      "/var/folders/zq/gd226qtd2tq509tvr0_wm2kc0000gn/T/ipykernel_9269/66503438.py:1: FutureWarning: Setting an item of incompatible dtype is deprecated and will raise in a future error of pandas. Value 'Young-Adult' has dtype incompatible with float64, please explicitly cast to a compatible dtype first.\n",
      "  df_2.loc[df_2['age'] <=34, 'age_range'] = 'Young-Adult'\n"
     ]
    }
   ],
   "source": [
    "df_2.loc[df_2['age'] <=34, 'age_range'] = 'Young-Adult'"
   ]
  },
  {
   "cell_type": "code",
   "execution_count": 22,
   "id": "09ffc875",
   "metadata": {},
   "outputs": [],
   "source": [
    "df_2.loc[(df_2['age'] >=35) & (df_2['age'] <= 64), 'age_range'] = 'Middle-Aged'"
   ]
  },
  {
   "cell_type": "code",
   "execution_count": 23,
   "id": "e48f2d84",
   "metadata": {},
   "outputs": [],
   "source": [
    "df_2.loc[df_2['age'] >= 65, 'age_range'] = 'Older'"
   ]
  },
  {
   "cell_type": "code",
   "execution_count": 24,
   "id": "7766c676",
   "metadata": {
    "scrolled": true
   },
   "outputs": [
    {
     "data": {
      "text/plain": [
       "age_range\n",
       "Middle-Aged    14526725\n",
       "Young-Adult     8242295\n",
       "Older           8195544\n",
       "Name: count, dtype: int64"
      ]
     },
     "execution_count": 24,
     "metadata": {},
     "output_type": "execute_result"
    }
   ],
   "source": [
    "#Check data\n",
    "df_2['age_range'].value_counts(dropna = False)"
   ]
  },
  {
   "cell_type": "code",
   "execution_count": 25,
   "id": "1f725e22",
   "metadata": {},
   "outputs": [
    {
     "name": "stderr",
     "output_type": "stream",
     "text": [
      "/Users/marianino/anaconda3/lib/python3.11/site-packages/seaborn/_oldcore.py:1498: FutureWarning: is_categorical_dtype is deprecated and will be removed in a future version. Use isinstance(dtype, CategoricalDtype) instead\n",
      "  if pd.api.types.is_categorical_dtype(vector):\n",
      "/Users/marianino/anaconda3/lib/python3.11/site-packages/seaborn/_oldcore.py:1498: FutureWarning: is_categorical_dtype is deprecated and will be removed in a future version. Use isinstance(dtype, CategoricalDtype) instead\n",
      "  if pd.api.types.is_categorical_dtype(vector):\n",
      "/Users/marianino/anaconda3/lib/python3.11/site-packages/seaborn/_oldcore.py:1498: FutureWarning: is_categorical_dtype is deprecated and will be removed in a future version. Use isinstance(dtype, CategoricalDtype) instead\n",
      "  if pd.api.types.is_categorical_dtype(vector):\n"
     ]
    },
    {
     "data": {
      "image/png": "[encoded data removed]",
      "text/plain": [
       "<Figure size 1000x600 with 1 Axes>"
      ]
     },
     "metadata": {},
     "output_type": "display_data"
    }
   ],
   "source": [
    "#Bar chart for the age flag\n",
    "\n",
    "plt.figure(figsize=(10, 6))\n",
    "barchart1 = sns.countplot(data=df_2, x='age_range')\n",
    "plt.gca().get_yaxis().set_major_formatter(ScalarFormatter(useMathText=True))\n",
    "plt.gca().ticklabel_format(axis='y', style='plain', useOffset=False)\n",
    "\n",
    "plt.title('Distribution of Age Groups')\n",
    "plt.xlabel('Age Groups')\n",
    "plt.ylabel('Count')\n",
    "plt.xticks(rotation=45, ha='right')\n",
    "\n",
    "plt.show()"
   ]
  },
  {
   "cell_type": "code",
   "execution_count": 26,
   "id": "1c8f42ac",
   "metadata": {},
   "outputs": [],
   "source": [
    "#Export Bar chart\n",
    "barchart1.figure.savefig(r'/Users/marianino/Desktop/Instacart Basket Analysis/Analysis/Visualizations/distribution_of_age_groups.png')"
   ]
  },
  {
   "cell_type": "markdown",
   "id": "b811edcb",
   "metadata": {},
   "source": [
    "# Income flag"
   ]
  },
  {
   "cell_type": "code",
   "execution_count": 27,
   "id": "7edbfd86",
   "metadata": {},
   "outputs": [
    {
     "data": {
      "text/html": [
       "<div>\n",
       "<style scoped>\n",
       "    .dataframe tbody tr th:only-of-type {\n",
       "        vertical-align: middle;\n",
       "    }\n",
       "\n",
       "    .dataframe tbody tr th {\n",
       "        vertical-align: top;\n",
       "    }\n",
       "\n",
       "    .dataframe thead th {\n",
       "        text-align: right;\n",
       "    }\n",
       "</style>\n",
       "<table border=\"1\" class=\"dataframe\">\n",
       "  <thead>\n",
       "    <tr style=\"text-align: right;\">\n",
       "      <th></th>\n",
       "      <th>income</th>\n",
       "    </tr>\n",
       "  </thead>\n",
       "  <tbody>\n",
       "    <tr>\n",
       "      <th>mean</th>\n",
       "      <td>99675.865108</td>\n",
       "    </tr>\n",
       "    <tr>\n",
       "      <th>std</th>\n",
       "      <td>43141.865526</td>\n",
       "    </tr>\n",
       "    <tr>\n",
       "      <th>min</th>\n",
       "      <td>25903.000000</td>\n",
       "    </tr>\n",
       "    <tr>\n",
       "      <th>max</th>\n",
       "      <td>593901.000000</td>\n",
       "    </tr>\n",
       "  </tbody>\n",
       "</table>\n",
       "</div>"
      ],
      "text/plain": [
       "             income\n",
       "mean   99675.865108\n",
       "std    43141.865526\n",
       "min    25903.000000\n",
       "max   593901.000000"
      ]
     },
     "execution_count": 27,
     "metadata": {},
     "output_type": "execute_result"
    }
   ],
   "source": [
    "#Check distribution of incomes\n",
    "df_2.agg({'income': ['mean', 'std', 'min', 'max']})"
   ]
  },
  {
   "cell_type": "code",
   "execution_count": 28,
   "id": "1225c772",
   "metadata": {},
   "outputs": [],
   "source": [
    "#Calculate range to account for an average income as one standard deviation above and below mean\n",
    "bottom_avg_inc = df_2['income'].mean() - df_2['income'].std()\n",
    "top_avg_inc = df_2['income'].mean() + df_2['income'].std()"
   ]
  },
  {
   "cell_type": "code",
   "execution_count": 29,
   "id": "2e716d79",
   "metadata": {},
   "outputs": [
    {
     "name": "stdout",
     "output_type": "stream",
     "text": [
      "56533.99958154206\n"
     ]
    }
   ],
   "source": [
    "print(bottom_avg_inc)"
   ]
  },
  {
   "cell_type": "code",
   "execution_count": 30,
   "id": "f69d9ca6",
   "metadata": {},
   "outputs": [
    {
     "name": "stdout",
     "output_type": "stream",
     "text": [
      "142817.73063355155\n"
     ]
    }
   ],
   "source": [
    "print(top_avg_inc)"
   ]
  },
  {
   "cell_type": "code",
   "execution_count": 31,
   "id": "677fd174",
   "metadata": {},
   "outputs": [
    {
     "name": "stderr",
     "output_type": "stream",
     "text": [
      "/var/folders/zq/gd226qtd2tq509tvr0_wm2kc0000gn/T/ipykernel_9269/3615857061.py:2: FutureWarning: Setting an item of incompatible dtype is deprecated and will raise in a future error of pandas. Value 'Above Avg Income' has dtype incompatible with float64, please explicitly cast to a compatible dtype first.\n",
      "  df_2.loc[df_2['income'] >= 142818, 'Income_Level'] ='Above Avg Income'\n"
     ]
    }
   ],
   "source": [
    "#Income flag(below average, average, above average)\n",
    "df_2.loc[df_2['income'] >= 142818, 'Income_Level'] ='Above Avg Income'\n",
    "df_2.loc[(df_2['income'] < 142818) & (df_2['income'] >= 56534), 'Income_Level'] = 'Avg Income'\n",
    "df_2.loc[df_2['income'] < 56534, 'Income_Level'] = 'Below Avg Income'"
   ]
  },
  {
   "cell_type": "code",
   "execution_count": 32,
   "id": "757ba90b",
   "metadata": {},
   "outputs": [
    {
     "data": {
      "text/plain": [
       "Income_Level\n",
       "Avg Income          20923960\n",
       "Above Avg Income     5173082\n",
       "Below Avg Income     4867522\n",
       "Name: count, dtype: int64"
      ]
     },
     "execution_count": 32,
     "metadata": {},
     "output_type": "execute_result"
    }
   ],
   "source": [
    "#Check data\n",
    "df_2['Income_Level'].value_counts(dropna = False)"
   ]
  },
  {
   "cell_type": "code",
   "execution_count": 33,
   "id": "4d9c210c",
   "metadata": {},
   "outputs": [
    {
     "name": "stderr",
     "output_type": "stream",
     "text": [
      "/Users/marianino/anaconda3/lib/python3.11/site-packages/seaborn/_oldcore.py:1498: FutureWarning: is_categorical_dtype is deprecated and will be removed in a future version. Use isinstance(dtype, CategoricalDtype) instead\n",
      "  if pd.api.types.is_categorical_dtype(vector):\n",
      "/Users/marianino/anaconda3/lib/python3.11/site-packages/seaborn/_oldcore.py:1498: FutureWarning: is_categorical_dtype is deprecated and will be removed in a future version. Use isinstance(dtype, CategoricalDtype) instead\n",
      "  if pd.api.types.is_categorical_dtype(vector):\n",
      "/Users/marianino/anaconda3/lib/python3.11/site-packages/seaborn/_oldcore.py:1498: FutureWarning: is_categorical_dtype is deprecated and will be removed in a future version. Use isinstance(dtype, CategoricalDtype) instead\n",
      "  if pd.api.types.is_categorical_dtype(vector):\n"
     ]
    },
    {
     "data": {
      "image/png": "[encoded data removed]",
      "text/plain": [
       "<Figure size 1000x600 with 1 Axes>"
      ]
     },
     "metadata": {},
     "output_type": "display_data"
    }
   ],
   "source": [
    "#Bar chart for income\n",
    "\n",
    "plt.figure(figsize = (10, 6))\n",
    "barchart2 = sns.countplot(data = df_2, x = 'Income_Level')\n",
    "\n",
    "\n",
    "plt.title('Distribution of Income Groups')\n",
    "plt.xlabel('Income Groups')\n",
    "plt.ylabel('Count')\n",
    "plt.xticks(rotation = 45, ha = 'right')\n",
    "\n",
    "plt.show()"
   ]
  },
  {
   "cell_type": "code",
   "execution_count": 34,
   "id": "ff8a3ca4",
   "metadata": {},
   "outputs": [],
   "source": [
    "#Export Bar chart\n",
    "barchart2.figure.savefig(r'/Users/marianino/Desktop/Instacart Basket Analysis/Analysis/Visualizations/distribution_of_income.png')"
   ]
  },
  {
   "cell_type": "markdown",
   "id": "a31719cd",
   "metadata": {},
   "source": [
    "# Dependant flag"
   ]
  },
  {
   "cell_type": "code",
   "execution_count": 35,
   "id": "fe8d8a58",
   "metadata": {},
   "outputs": [
    {
     "name": "stderr",
     "output_type": "stream",
     "text": [
      "/var/folders/zq/gd226qtd2tq509tvr0_wm2kc0000gn/T/ipykernel_9269/612236021.py:1: FutureWarning: Setting an item of incompatible dtype is deprecated and will raise in a future error of pandas. Value 'No children' has dtype incompatible with float64, please explicitly cast to a compatible dtype first.\n",
      "  df_2.loc[df_2['n_dependants'] == 0, 'dependants_flag'] = \"No children\"\n"
     ]
    }
   ],
   "source": [
    "df_2.loc[df_2['n_dependants'] == 0, 'dependants_flag'] = \"No children\""
   ]
  },
  {
   "cell_type": "code",
   "execution_count": 36,
   "id": "0a695b2a",
   "metadata": {},
   "outputs": [],
   "source": [
    "df_2.loc[df_2['n_dependants'] >= 1, 'dependants_flag'] = \"Has children\""
   ]
  },
  {
   "cell_type": "code",
   "execution_count": 37,
   "id": "7ca00168",
   "metadata": {},
   "outputs": [
    {
     "name": "stderr",
     "output_type": "stream",
     "text": [
      "/Users/marianino/anaconda3/lib/python3.11/site-packages/seaborn/_oldcore.py:1498: FutureWarning: is_categorical_dtype is deprecated and will be removed in a future version. Use isinstance(dtype, CategoricalDtype) instead\n",
      "  if pd.api.types.is_categorical_dtype(vector):\n",
      "/Users/marianino/anaconda3/lib/python3.11/site-packages/seaborn/_oldcore.py:1498: FutureWarning: is_categorical_dtype is deprecated and will be removed in a future version. Use isinstance(dtype, CategoricalDtype) instead\n",
      "  if pd.api.types.is_categorical_dtype(vector):\n",
      "/Users/marianino/anaconda3/lib/python3.11/site-packages/seaborn/_oldcore.py:1498: FutureWarning: is_categorical_dtype is deprecated and will be removed in a future version. Use isinstance(dtype, CategoricalDtype) instead\n",
      "  if pd.api.types.is_categorical_dtype(vector):\n"
     ]
    },
    {
     "data": {
      "image/png": "[encoded data removed]",
      "text/plain": [
       "<Figure size 1000x600 with 1 Axes>"
      ]
     },
     "metadata": {},
     "output_type": "display_data"
    }
   ],
   "source": [
    "#Bar chart for dependants\n",
    "\n",
    "plt.figure(figsize = (10, 6))\n",
    "barchart3 = sns.countplot(data = df_2, x = 'dependants_flag')\n",
    "plt.gca().get_yaxis().set_major_formatter(ScalarFormatter(useMathText=True))\n",
    "plt.gca().ticklabel_format(axis='y', style='plain', useOffset=False)\n",
    "\n",
    "plt.title('Distribution of People with Dependants')\n",
    "plt.xlabel('Dependants Groups')\n",
    "plt.ylabel('Count')\n",
    "plt.xticks(rotation = 45, ha = 'right')\n",
    "\n",
    "plt.show()"
   ]
  },
  {
   "cell_type": "code",
   "execution_count": 38,
   "id": "88b753f1",
   "metadata": {},
   "outputs": [],
   "source": [
    "#Export Bar chart\n",
    "barchart3.figure.savefig(r'/Users/marianino/Desktop/Instacart Basket Analysis/Analysis/Visualizations/distribution_of_people_with_children.png')"
   ]
  },
  {
   "cell_type": "markdown",
   "id": "49c4feca",
   "metadata": {},
   "source": [
    "# Export Data"
   ]
  },
  {
   "cell_type": "code",
   "execution_count": 39,
   "id": "de9b9788",
   "metadata": {},
   "outputs": [],
   "source": [
    "df_2.to_pickle(r'/Users/marianino/Desktop/Instacart Basket Analysis/Data/Prepared Data/final_data.pkl')"
   ]
  }
 ],
 "metadata": {
  "kernelspec": {
   "display_name": "Python 3 (ipykernel)",
   "language": "python",
   "name": "python3"
  },
  "language_info": {
   "codemirror_mode": {
    "name": "ipython",
    "version": 3
   },
   "file_extension": ".py",
   "mimetype": "text/x-python",
   "name": "python",
   "nbconvert_exporter": "python",
   "pygments_lexer": "ipython3",
   "version": "3.11.5"
  }
 },
 "nbformat": 4,
 "nbformat_minor": 5
}
